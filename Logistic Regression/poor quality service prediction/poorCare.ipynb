{
 "cells": [
  {
   "cell_type": "code",
   "execution_count": 1,
   "id": "83681005",
   "metadata": {},
   "outputs": [],
   "source": [
    "import pandas as pd\n",
    "import numpy as np\n",
    "import statsmodels.api as sm"
   ]
  },
  {
   "cell_type": "code",
   "execution_count": 2,
   "id": "ab419ea1",
   "metadata": {},
   "outputs": [],
   "source": [
    "path = 'C:/Users/User/Desktop/MIT/Logistic Regression/data/'\n",
    "filename = 'quality.csv'"
   ]
  },
  {
   "cell_type": "code",
   "execution_count": 3,
   "id": "2f4bc5d2",
   "metadata": {},
   "outputs": [
    {
     "data": {
      "text/html": [
       "<div>\n",
       "<style scoped>\n",
       "    .dataframe tbody tr th:only-of-type {\n",
       "        vertical-align: middle;\n",
       "    }\n",
       "\n",
       "    .dataframe tbody tr th {\n",
       "        vertical-align: top;\n",
       "    }\n",
       "\n",
       "    .dataframe thead th {\n",
       "        text-align: right;\n",
       "    }\n",
       "</style>\n",
       "<table border=\"1\" class=\"dataframe\">\n",
       "  <thead>\n",
       "    <tr style=\"text-align: right;\">\n",
       "      <th></th>\n",
       "      <th>MemberID</th>\n",
       "      <th>InpatientDays</th>\n",
       "      <th>ERVisits</th>\n",
       "      <th>OfficeVisits</th>\n",
       "      <th>Narcotics</th>\n",
       "      <th>DaysSinceLastERVisit</th>\n",
       "      <th>Pain</th>\n",
       "      <th>TotalVisits</th>\n",
       "      <th>ProviderCount</th>\n",
       "      <th>MedicalClaims</th>\n",
       "      <th>ClaimLines</th>\n",
       "      <th>StartedOnCombination</th>\n",
       "      <th>AcuteDrugGapSmall</th>\n",
       "      <th>PoorCare</th>\n",
       "    </tr>\n",
       "  </thead>\n",
       "  <tbody>\n",
       "    <tr>\n",
       "      <th>0</th>\n",
       "      <td>1</td>\n",
       "      <td>0</td>\n",
       "      <td>0</td>\n",
       "      <td>18</td>\n",
       "      <td>1</td>\n",
       "      <td>731.0</td>\n",
       "      <td>10</td>\n",
       "      <td>18</td>\n",
       "      <td>21</td>\n",
       "      <td>93</td>\n",
       "      <td>222</td>\n",
       "      <td>False</td>\n",
       "      <td>0</td>\n",
       "      <td>0</td>\n",
       "    </tr>\n",
       "    <tr>\n",
       "      <th>1</th>\n",
       "      <td>2</td>\n",
       "      <td>1</td>\n",
       "      <td>1</td>\n",
       "      <td>6</td>\n",
       "      <td>1</td>\n",
       "      <td>411.0</td>\n",
       "      <td>0</td>\n",
       "      <td>8</td>\n",
       "      <td>27</td>\n",
       "      <td>19</td>\n",
       "      <td>115</td>\n",
       "      <td>False</td>\n",
       "      <td>1</td>\n",
       "      <td>0</td>\n",
       "    </tr>\n",
       "    <tr>\n",
       "      <th>2</th>\n",
       "      <td>3</td>\n",
       "      <td>0</td>\n",
       "      <td>0</td>\n",
       "      <td>5</td>\n",
       "      <td>3</td>\n",
       "      <td>731.0</td>\n",
       "      <td>10</td>\n",
       "      <td>5</td>\n",
       "      <td>16</td>\n",
       "      <td>27</td>\n",
       "      <td>148</td>\n",
       "      <td>False</td>\n",
       "      <td>5</td>\n",
       "      <td>0</td>\n",
       "    </tr>\n",
       "    <tr>\n",
       "      <th>3</th>\n",
       "      <td>4</td>\n",
       "      <td>0</td>\n",
       "      <td>1</td>\n",
       "      <td>19</td>\n",
       "      <td>0</td>\n",
       "      <td>158.0</td>\n",
       "      <td>34</td>\n",
       "      <td>20</td>\n",
       "      <td>14</td>\n",
       "      <td>59</td>\n",
       "      <td>242</td>\n",
       "      <td>False</td>\n",
       "      <td>0</td>\n",
       "      <td>0</td>\n",
       "    </tr>\n",
       "    <tr>\n",
       "      <th>4</th>\n",
       "      <td>5</td>\n",
       "      <td>8</td>\n",
       "      <td>2</td>\n",
       "      <td>19</td>\n",
       "      <td>3</td>\n",
       "      <td>449.0</td>\n",
       "      <td>10</td>\n",
       "      <td>29</td>\n",
       "      <td>24</td>\n",
       "      <td>51</td>\n",
       "      <td>204</td>\n",
       "      <td>False</td>\n",
       "      <td>0</td>\n",
       "      <td>0</td>\n",
       "    </tr>\n",
       "  </tbody>\n",
       "</table>\n",
       "</div>"
      ],
      "text/plain": [
       "   MemberID  InpatientDays  ERVisits  OfficeVisits  Narcotics  \\\n",
       "0         1              0         0            18          1   \n",
       "1         2              1         1             6          1   \n",
       "2         3              0         0             5          3   \n",
       "3         4              0         1            19          0   \n",
       "4         5              8         2            19          3   \n",
       "\n",
       "   DaysSinceLastERVisit  Pain  TotalVisits  ProviderCount  MedicalClaims  \\\n",
       "0                 731.0    10           18             21             93   \n",
       "1                 411.0     0            8             27             19   \n",
       "2                 731.0    10            5             16             27   \n",
       "3                 158.0    34           20             14             59   \n",
       "4                 449.0    10           29             24             51   \n",
       "\n",
       "   ClaimLines  StartedOnCombination  AcuteDrugGapSmall  PoorCare  \n",
       "0         222                 False                  0         0  \n",
       "1         115                 False                  1         0  \n",
       "2         148                 False                  5         0  \n",
       "3         242                 False                  0         0  \n",
       "4         204                 False                  0         0  "
      ]
     },
     "execution_count": 3,
     "metadata": {},
     "output_type": "execute_result"
    }
   ],
   "source": [
    "qlt = pd.read_csv(path + filename)\n",
    "qlt.head()"
   ]
  },
  {
   "cell_type": "code",
   "execution_count": 4,
   "id": "5f4d4bbf",
   "metadata": {},
   "outputs": [
    {
     "name": "stdout",
     "output_type": "stream",
     "text": [
      "<class 'pandas.core.frame.DataFrame'>\n",
      "RangeIndex: 131 entries, 0 to 130\n",
      "Data columns (total 14 columns):\n",
      " #   Column                Non-Null Count  Dtype  \n",
      "---  ------                --------------  -----  \n",
      " 0   MemberID              131 non-null    int64  \n",
      " 1   InpatientDays         131 non-null    int64  \n",
      " 2   ERVisits              131 non-null    int64  \n",
      " 3   OfficeVisits          131 non-null    int64  \n",
      " 4   Narcotics             131 non-null    int64  \n",
      " 5   DaysSinceLastERVisit  131 non-null    float64\n",
      " 6   Pain                  131 non-null    int64  \n",
      " 7   TotalVisits           131 non-null    int64  \n",
      " 8   ProviderCount         131 non-null    int64  \n",
      " 9   MedicalClaims         131 non-null    int64  \n",
      " 10  ClaimLines            131 non-null    int64  \n",
      " 11  StartedOnCombination  131 non-null    bool   \n",
      " 12  AcuteDrugGapSmall     131 non-null    int64  \n",
      " 13  PoorCare              131 non-null    int64  \n",
      "dtypes: bool(1), float64(1), int64(12)\n",
      "memory usage: 13.6 KB\n"
     ]
    }
   ],
   "source": [
    "qlt.info()"
   ]
  },
  {
   "cell_type": "code",
   "execution_count": 5,
   "id": "2ffcd580",
   "metadata": {},
   "outputs": [
    {
     "data": {
      "text/html": [
       "<div>\n",
       "<style scoped>\n",
       "    .dataframe tbody tr th:only-of-type {\n",
       "        vertical-align: middle;\n",
       "    }\n",
       "\n",
       "    .dataframe tbody tr th {\n",
       "        vertical-align: top;\n",
       "    }\n",
       "\n",
       "    .dataframe thead th {\n",
       "        text-align: right;\n",
       "    }\n",
       "</style>\n",
       "<table border=\"1\" class=\"dataframe\">\n",
       "  <thead>\n",
       "    <tr style=\"text-align: right;\">\n",
       "      <th></th>\n",
       "      <th>MemberID</th>\n",
       "      <th>InpatientDays</th>\n",
       "      <th>ERVisits</th>\n",
       "      <th>OfficeVisits</th>\n",
       "      <th>Narcotics</th>\n",
       "      <th>DaysSinceLastERVisit</th>\n",
       "      <th>Pain</th>\n",
       "      <th>TotalVisits</th>\n",
       "      <th>ProviderCount</th>\n",
       "      <th>MedicalClaims</th>\n",
       "      <th>ClaimLines</th>\n",
       "      <th>AcuteDrugGapSmall</th>\n",
       "      <th>PoorCare</th>\n",
       "    </tr>\n",
       "  </thead>\n",
       "  <tbody>\n",
       "    <tr>\n",
       "      <th>count</th>\n",
       "      <td>131.000000</td>\n",
       "      <td>131.000000</td>\n",
       "      <td>131.000000</td>\n",
       "      <td>131.000000</td>\n",
       "      <td>131.000000</td>\n",
       "      <td>131.000000</td>\n",
       "      <td>131.000000</td>\n",
       "      <td>131.000000</td>\n",
       "      <td>131.000000</td>\n",
       "      <td>131.000000</td>\n",
       "      <td>131.000000</td>\n",
       "      <td>131.000000</td>\n",
       "      <td>131.000000</td>\n",
       "    </tr>\n",
       "    <tr>\n",
       "      <th>mean</th>\n",
       "      <td>66.000000</td>\n",
       "      <td>2.717557</td>\n",
       "      <td>1.496183</td>\n",
       "      <td>13.229008</td>\n",
       "      <td>4.572519</td>\n",
       "      <td>480.567112</td>\n",
       "      <td>15.557252</td>\n",
       "      <td>17.442748</td>\n",
       "      <td>23.984733</td>\n",
       "      <td>43.244275</td>\n",
       "      <td>142.862595</td>\n",
       "      <td>2.694656</td>\n",
       "      <td>0.251908</td>\n",
       "    </tr>\n",
       "    <tr>\n",
       "      <th>std</th>\n",
       "      <td>37.960506</td>\n",
       "      <td>5.099434</td>\n",
       "      <td>2.167501</td>\n",
       "      <td>9.077076</td>\n",
       "      <td>9.713615</td>\n",
       "      <td>274.767240</td>\n",
       "      <td>20.418001</td>\n",
       "      <td>12.298318</td>\n",
       "      <td>13.670285</td>\n",
       "      <td>28.886540</td>\n",
       "      <td>91.629921</td>\n",
       "      <td>6.983379</td>\n",
       "      <td>0.435775</td>\n",
       "    </tr>\n",
       "    <tr>\n",
       "      <th>min</th>\n",
       "      <td>1.000000</td>\n",
       "      <td>0.000000</td>\n",
       "      <td>0.000000</td>\n",
       "      <td>0.000000</td>\n",
       "      <td>0.000000</td>\n",
       "      <td>6.000000</td>\n",
       "      <td>0.000000</td>\n",
       "      <td>0.000000</td>\n",
       "      <td>5.000000</td>\n",
       "      <td>11.000000</td>\n",
       "      <td>20.000000</td>\n",
       "      <td>0.000000</td>\n",
       "      <td>0.000000</td>\n",
       "    </tr>\n",
       "    <tr>\n",
       "      <th>25%</th>\n",
       "      <td>33.500000</td>\n",
       "      <td>0.000000</td>\n",
       "      <td>0.000000</td>\n",
       "      <td>7.000000</td>\n",
       "      <td>0.000000</td>\n",
       "      <td>206.958333</td>\n",
       "      <td>1.000000</td>\n",
       "      <td>8.000000</td>\n",
       "      <td>15.000000</td>\n",
       "      <td>25.500000</td>\n",
       "      <td>83.500000</td>\n",
       "      <td>0.000000</td>\n",
       "      <td>0.000000</td>\n",
       "    </tr>\n",
       "    <tr>\n",
       "      <th>50%</th>\n",
       "      <td>66.000000</td>\n",
       "      <td>0.000000</td>\n",
       "      <td>1.000000</td>\n",
       "      <td>12.000000</td>\n",
       "      <td>1.000000</td>\n",
       "      <td>640.958333</td>\n",
       "      <td>8.000000</td>\n",
       "      <td>15.000000</td>\n",
       "      <td>20.000000</td>\n",
       "      <td>37.000000</td>\n",
       "      <td>120.000000</td>\n",
       "      <td>1.000000</td>\n",
       "      <td>0.000000</td>\n",
       "    </tr>\n",
       "    <tr>\n",
       "      <th>75%</th>\n",
       "      <td>98.500000</td>\n",
       "      <td>3.000000</td>\n",
       "      <td>2.000000</td>\n",
       "      <td>18.500000</td>\n",
       "      <td>3.000000</td>\n",
       "      <td>731.000000</td>\n",
       "      <td>23.000000</td>\n",
       "      <td>22.500000</td>\n",
       "      <td>30.000000</td>\n",
       "      <td>49.500000</td>\n",
       "      <td>185.000000</td>\n",
       "      <td>3.000000</td>\n",
       "      <td>0.500000</td>\n",
       "    </tr>\n",
       "    <tr>\n",
       "      <th>max</th>\n",
       "      <td>131.000000</td>\n",
       "      <td>30.000000</td>\n",
       "      <td>11.000000</td>\n",
       "      <td>46.000000</td>\n",
       "      <td>59.000000</td>\n",
       "      <td>731.000000</td>\n",
       "      <td>104.000000</td>\n",
       "      <td>69.000000</td>\n",
       "      <td>82.000000</td>\n",
       "      <td>194.000000</td>\n",
       "      <td>577.000000</td>\n",
       "      <td>71.000000</td>\n",
       "      <td>1.000000</td>\n",
       "    </tr>\n",
       "  </tbody>\n",
       "</table>\n",
       "</div>"
      ],
      "text/plain": [
       "         MemberID  InpatientDays    ERVisits  OfficeVisits   Narcotics  \\\n",
       "count  131.000000     131.000000  131.000000    131.000000  131.000000   \n",
       "mean    66.000000       2.717557    1.496183     13.229008    4.572519   \n",
       "std     37.960506       5.099434    2.167501      9.077076    9.713615   \n",
       "min      1.000000       0.000000    0.000000      0.000000    0.000000   \n",
       "25%     33.500000       0.000000    0.000000      7.000000    0.000000   \n",
       "50%     66.000000       0.000000    1.000000     12.000000    1.000000   \n",
       "75%     98.500000       3.000000    2.000000     18.500000    3.000000   \n",
       "max    131.000000      30.000000   11.000000     46.000000   59.000000   \n",
       "\n",
       "       DaysSinceLastERVisit        Pain  TotalVisits  ProviderCount  \\\n",
       "count            131.000000  131.000000   131.000000     131.000000   \n",
       "mean             480.567112   15.557252    17.442748      23.984733   \n",
       "std              274.767240   20.418001    12.298318      13.670285   \n",
       "min                6.000000    0.000000     0.000000       5.000000   \n",
       "25%              206.958333    1.000000     8.000000      15.000000   \n",
       "50%              640.958333    8.000000    15.000000      20.000000   \n",
       "75%              731.000000   23.000000    22.500000      30.000000   \n",
       "max              731.000000  104.000000    69.000000      82.000000   \n",
       "\n",
       "       MedicalClaims  ClaimLines  AcuteDrugGapSmall    PoorCare  \n",
       "count     131.000000  131.000000         131.000000  131.000000  \n",
       "mean       43.244275  142.862595           2.694656    0.251908  \n",
       "std        28.886540   91.629921           6.983379    0.435775  \n",
       "min        11.000000   20.000000           0.000000    0.000000  \n",
       "25%        25.500000   83.500000           0.000000    0.000000  \n",
       "50%        37.000000  120.000000           1.000000    0.000000  \n",
       "75%        49.500000  185.000000           3.000000    0.500000  \n",
       "max       194.000000  577.000000          71.000000    1.000000  "
      ]
     },
     "execution_count": 5,
     "metadata": {},
     "output_type": "execute_result"
    }
   ],
   "source": [
    "qlt.describe()"
   ]
  },
  {
   "cell_type": "code",
   "execution_count": 6,
   "id": "ab5945da",
   "metadata": {},
   "outputs": [
    {
     "data": {
      "text/plain": [
       "0.25190839694656486"
      ]
     },
     "execution_count": 6,
     "metadata": {},
     "output_type": "execute_result"
    }
   ],
   "source": [
    "#findnig a baseline\n",
    "baseline = qlt['PoorCare'].mean()\n",
    "baseline  #25% with poor quality"
   ]
  },
  {
   "cell_type": "code",
   "execution_count": 7,
   "id": "ae493a34",
   "metadata": {},
   "outputs": [],
   "source": [
    "#splitting data \n",
    "from sklearn.model_selection import train_test_split"
   ]
  },
  {
   "cell_type": "code",
   "execution_count": 8,
   "id": "77663448",
   "metadata": {},
   "outputs": [],
   "source": [
    "y = qlt['PoorCare']\n",
    "x = qlt[['OfficeVisits', 'Narcotics']]\n"
   ]
  },
  {
   "cell_type": "code",
   "execution_count": 9,
   "id": "5fe6e85d",
   "metadata": {},
   "outputs": [],
   "source": [
    "x_train, x_test, y_train, y_test = train_test_split(x, y, test_size= 0.25, random_state=42)"
   ]
  },
  {
   "cell_type": "code",
   "execution_count": 10,
   "id": "03003097",
   "metadata": {},
   "outputs": [
    {
     "name": "stdout",
     "output_type": "stream",
     "text": [
      "Optimization terminated successfully.\n",
      "         Current function value: 0.434247\n",
      "         Iterations 6\n",
      "                           Logit Regression Results                           \n",
      "==============================================================================\n",
      "Dep. Variable:               PoorCare   No. Observations:                   98\n",
      "Model:                          Logit   Df Residuals:                       95\n",
      "Method:                           MLE   Df Model:                            2\n",
      "Date:                Mon, 04 Nov 2024   Pseudo R-squ.:                  0.2353\n",
      "Time:                        10:21:29   Log-Likelihood:                -42.556\n",
      "converged:                       True   LL-Null:                       -55.651\n",
      "Covariance Type:            nonrobust   LLR p-value:                 2.055e-06\n",
      "================================================================================\n",
      "                   coef    std err          z      P>|z|      [0.025      0.975]\n",
      "--------------------------------------------------------------------------------\n",
      "const           -2.7690      0.562     -4.931      0.000      -3.870      -1.668\n",
      "OfficeVisits     0.0784      0.032      2.469      0.014       0.016       0.141\n",
      "Narcotics        0.1062      0.035      3.021      0.003       0.037       0.175\n",
      "================================================================================\n"
     ]
    }
   ],
   "source": [
    "x = sm.add_constant(x_train)\n",
    "qltLog = sm.Logit(y_train, x).fit()\n",
    "print(qltLog.summary())"
   ]
  },
  {
   "cell_type": "code",
   "execution_count": 11,
   "id": "d9d690e4",
   "metadata": {},
   "outputs": [
    {
     "data": {
      "text/plain": [
       "91.11249975017489"
      ]
     },
     "execution_count": 11,
     "metadata": {},
     "output_type": "execute_result"
    }
   ],
   "source": [
    "qltLog.aic"
   ]
  },
  {
   "cell_type": "markdown",
   "id": "2e89d936",
   "metadata": {},
   "source": [
    "as we suspected office visits and narcotics has a significant impact on poor quality...which means servise to narcotics and after high volume of visits decrease."
   ]
  },
  {
   "cell_type": "code",
   "execution_count": 12,
   "id": "1be189f9",
   "metadata": {},
   "outputs": [],
   "source": [
    "#making predictions\n",
    "x_test = sm.add_constant(x_test)\n",
    "predictions = qltLog.predict(x_test)"
   ]
  },
  {
   "cell_type": "code",
   "execution_count": 13,
   "id": "6f2ce4cd",
   "metadata": {},
   "outputs": [],
   "source": [
    "threshold = 0.5\n",
    "predicted_classes = (predictions >= threshold).astype(int)\n",
    "#predicted_classes"
   ]
  },
  {
   "cell_type": "code",
   "execution_count": 14,
   "id": "cfff9e6d",
   "metadata": {},
   "outputs": [],
   "source": [
    "#evaluating the model\n",
    "from sklearn.metrics import accuracy_score, confusion_matrix"
   ]
  },
  {
   "cell_type": "code",
   "execution_count": 15,
   "id": "d9aff6a6",
   "metadata": {},
   "outputs": [],
   "source": [
    "accuracy = accuracy_score(y_test, predicted_classes)\n",
    "conf_matrix = confusion_matrix(y_test, predicted_classes)"
   ]
  },
  {
   "cell_type": "code",
   "execution_count": 16,
   "id": "55d8f6c2",
   "metadata": {},
   "outputs": [
    {
     "data": {
      "text/plain": [
       "0.8181818181818182"
      ]
     },
     "execution_count": 16,
     "metadata": {},
     "output_type": "execute_result"
    }
   ],
   "source": [
    "accuracy"
   ]
  },
  {
   "cell_type": "code",
   "execution_count": 17,
   "id": "e6e7e15b",
   "metadata": {},
   "outputs": [
    {
     "data": {
      "text/plain": [
       "array([[24,  1],\n",
       "       [ 5,  3]], dtype=int64)"
      ]
     },
     "execution_count": 17,
     "metadata": {},
     "output_type": "execute_result"
    }
   ],
   "source": [
    "conf_matrix"
   ]
  },
  {
   "cell_type": "raw",
   "id": "0ef95b28",
   "metadata": {},
   "source": [
    "the model predicted with 81% of accuracy from which\n",
    "24 TP , 1 FP, 5 TN, 3 FN"
   ]
  },
  {
   "cell_type": "code",
   "execution_count": 36,
   "id": "cbe419c1",
   "metadata": {},
   "outputs": [
    {
     "data": {
      "text/plain": [
       "0.8888888888888888"
      ]
     },
     "execution_count": 36,
     "metadata": {},
     "output_type": "execute_result"
    }
   ],
   "source": [
    "TP = conf_matrix[0, 0]  # True Positives\n",
    "FN = conf_matrix[1, 1]  # False Negatives\n",
    "sensitivity = TP / (TP + FN)\n",
    "sensitivity"
   ]
  },
  {
   "cell_type": "code",
   "execution_count": 37,
   "id": "9a015dd8",
   "metadata": {
    "scrolled": true
   },
   "outputs": [
    {
     "data": {
      "text/plain": [
       "0.8333333333333334"
      ]
     },
     "execution_count": 37,
     "metadata": {},
     "output_type": "execute_result"
    }
   ],
   "source": [
    "TN = conf_matrix[1, 0]  # True Positives\n",
    "FP = conf_matrix[0, 1]  # False Negatives\n",
    "specificity = TN / (TN + FP)\n",
    "specificity"
   ]
  },
  {
   "cell_type": "code",
   "execution_count": 27,
   "id": "d159ba27",
   "metadata": {},
   "outputs": [],
   "source": [
    "from sklearn.metrics import roc_curve, auc"
   ]
  },
  {
   "cell_type": "markdown",
   "id": "ba903255",
   "metadata": {},
   "source": [
    "adjusting treshhold"
   ]
  },
  {
   "cell_type": "code",
   "execution_count": 39,
   "id": "a71edfc4",
   "metadata": {},
   "outputs": [],
   "source": [
    "#calculating ROC curve\n",
    "FP, TP, thresholds = roc_curve(y_test, predictions)\n",
    "roc_auc = auc(FP, TP)"
   ]
  },
  {
   "cell_type": "code",
   "execution_count": 29,
   "id": "c1d5f5ca",
   "metadata": {},
   "outputs": [],
   "source": [
    "import matplotlib.pyplot as plt"
   ]
  },
  {
   "cell_type": "code",
   "execution_count": 54,
   "id": "d7d1aa9f",
   "metadata": {},
   "outputs": [
    {
     "data": {
      "image/png": "[encoded data removed]",
      "text/plain": [
       "<Figure size 640x480 with 1 Axes>"
      ]
     },
     "metadata": {},
     "output_type": "display_data"
    }
   ],
   "source": [
    "#ploting ROC curve\n",
    "plt.figure()\n",
    "plt.plot(FP, TP, color='darkorange', lw=2, label='ROC curve (area = %0.2f)' % roc_auc)\n",
    "plt.xlim([0.0, 1.0])\n",
    "plt.ylim([0.0, 1.05])\n",
    "plt.xlabel('False Positive Rate')\n",
    "plt.ylabel('True Positive Rate')\n",
    "plt.title('Receiver Operating Characteristic Curve')\n",
    "plt.legend(loc=\"lower right\")\n",
    "for i, threshold in enumerate(thresholds):\n",
    "    plt.annotate(f'{threshold:.2f}', xy=(FP[i], TP[i]))\n",
    "\n",
    "plt.show()"
   ]
  },
  {
   "cell_type": "code",
   "execution_count": 62,
   "id": "a42a155a",
   "metadata": {},
   "outputs": [
    {
     "data": {
      "text/plain": [
       "0.6325"
      ]
     },
     "execution_count": 62,
     "metadata": {},
     "output_type": "execute_result"
    }
   ],
   "source": [
    "roc_auc #how accurate the model is"
   ]
  },
  {
   "cell_type": "markdown",
   "id": "b9b01ee5",
   "metadata": {},
   "source": [
    "we can adjust now the treshhold accordind how we want our prediction to be. exm: if we want to predict more poor quality we can use a 0.1 treshhold meanwhile it will decrease the number of true negative predictions."
   ]
  },
  {
   "cell_type": "code",
   "execution_count": null,
   "id": "e6f67a93",
   "metadata": {},
   "outputs": [],
   "source": []
  }
 ],
 "metadata": {
  "kernelspec": {
   "display_name": "Python 3 (ipykernel)",
   "language": "python",
   "name": "python3"
  },
  "language_info": {
   "codemirror_mode": {
    "name": "ipython",
    "version": 3
   },
   "file_extension": ".py",
   "mimetype": "text/x-python",
   "name": "python",
   "nbconvert_exporter": "python",
   "pygments_lexer": "ipython3",
   "version": "3.9.13"
  }
 },
 "nbformat": 4,
 "nbformat_minor": 5
}
