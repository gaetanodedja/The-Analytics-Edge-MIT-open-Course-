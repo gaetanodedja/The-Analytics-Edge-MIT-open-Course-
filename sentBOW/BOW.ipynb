{
 "cells": [
  {
   "cell_type": "code",
   "execution_count": 1,
   "id": "70943afb",
   "metadata": {},
   "outputs": [],
   "source": [
    "import pandas as pd"
   ]
  },
  {
   "cell_type": "code",
   "execution_count": 2,
   "id": "27b79507",
   "metadata": {},
   "outputs": [],
   "source": [
    "path = 'C:/Users/User/Desktop/MIT/Sentiment Analysis/data/'\n",
    "file = 'tweets.csv'"
   ]
  },
  {
   "cell_type": "code",
   "execution_count": 3,
   "id": "43f0fe4f",
   "metadata": {},
   "outputs": [
    {
     "data": {
      "text/html": [
       "<div>\n",
       "<style scoped>\n",
       "    .dataframe tbody tr th:only-of-type {\n",
       "        vertical-align: middle;\n",
       "    }\n",
       "\n",
       "    .dataframe tbody tr th {\n",
       "        vertical-align: top;\n",
       "    }\n",
       "\n",
       "    .dataframe thead th {\n",
       "        text-align: right;\n",
       "    }\n",
       "</style>\n",
       "<table border=\"1\" class=\"dataframe\">\n",
       "  <thead>\n",
       "    <tr style=\"text-align: right;\">\n",
       "      <th></th>\n",
       "      <th>Tweet</th>\n",
       "      <th>Avg</th>\n",
       "    </tr>\n",
       "  </thead>\n",
       "  <tbody>\n",
       "    <tr>\n",
       "      <th>0</th>\n",
       "      <td>I have to say, Apple has by far the best custo...</td>\n",
       "      <td>2.0</td>\n",
       "    </tr>\n",
       "    <tr>\n",
       "      <th>1</th>\n",
       "      <td>iOS 7 is so fricking smooth &amp; beautiful!! #Tha...</td>\n",
       "      <td>2.0</td>\n",
       "    </tr>\n",
       "    <tr>\n",
       "      <th>2</th>\n",
       "      <td>LOVE U @APPLE</td>\n",
       "      <td>1.8</td>\n",
       "    </tr>\n",
       "    <tr>\n",
       "      <th>3</th>\n",
       "      <td>Thank you @apple, loving my new iPhone 5S!!!!!...</td>\n",
       "      <td>1.8</td>\n",
       "    </tr>\n",
       "    <tr>\n",
       "      <th>4</th>\n",
       "      <td>.@apple has the best customer service. In and ...</td>\n",
       "      <td>1.8</td>\n",
       "    </tr>\n",
       "  </tbody>\n",
       "</table>\n",
       "</div>"
      ],
      "text/plain": [
       "                                               Tweet  Avg\n",
       "0  I have to say, Apple has by far the best custo...  2.0\n",
       "1  iOS 7 is so fricking smooth & beautiful!! #Tha...  2.0\n",
       "2                                      LOVE U @APPLE  1.8\n",
       "3  Thank you @apple, loving my new iPhone 5S!!!!!...  1.8\n",
       "4  .@apple has the best customer service. In and ...  1.8"
      ]
     },
     "execution_count": 3,
     "metadata": {},
     "output_type": "execute_result"
    }
   ],
   "source": [
    "tweets = pd.read_csv(path+file,  dtype={'Tweet': 'category'})\n",
    "tweets.head()"
   ]
  },
  {
   "cell_type": "code",
   "execution_count": 4,
   "id": "02e506a1",
   "metadata": {},
   "outputs": [
    {
     "name": "stdout",
     "output_type": "stream",
     "text": [
      "<class 'pandas.core.frame.DataFrame'>\n",
      "RangeIndex: 1181 entries, 0 to 1180\n",
      "Data columns (total 2 columns):\n",
      " #   Column  Non-Null Count  Dtype   \n",
      "---  ------  --------------  -----   \n",
      " 0   Tweet   1181 non-null   category\n",
      " 1   Avg     1181 non-null   float64 \n",
      "dtypes: category(1), float64(1)\n",
      "memory usage: 52.8 KB\n"
     ]
    }
   ],
   "source": [
    "tweets.info()"
   ]
  },
  {
   "cell_type": "markdown",
   "id": "21349e21",
   "metadata": {},
   "source": [
    "BoW"
   ]
  },
  {
   "cell_type": "code",
   "execution_count": 5,
   "id": "3b125671",
   "metadata": {},
   "outputs": [],
   "source": [
    "from sklearn.feature_extraction.text import CountVectorizer\n",
    "import string\n",
    "from nltk.corpus import stopwords\n",
    "import nltk\n",
    "from nltk.stem import PorterStemmer"
   ]
  },
  {
   "cell_type": "code",
   "execution_count": 6,
   "id": "6a695567",
   "metadata": {},
   "outputs": [],
   "source": [
    "stop_words = set(stopwords.words('english'))\n",
    "punctuation = set(string.punctuation)\n",
    "stemmer = PorterStemmer()"
   ]
  },
  {
   "cell_type": "code",
   "execution_count": 7,
   "id": "508abd5c",
   "metadata": {},
   "outputs": [],
   "source": [
    "#del pucntuation and stopwords\n",
    "def preprocess(text):    \n",
    "    text = ''.join([char for char in text if char not in punctuation])\n",
    "    text = ' '.join([stemmer.stem(word) for word in text.split() if word.lower() not in stop_words])\n",
    "    return text"
   ]
  },
  {
   "cell_type": "code",
   "execution_count": 8,
   "id": "44b9a7aa",
   "metadata": {},
   "outputs": [],
   "source": [
    "vectorizer = CountVectorizer(preprocessor=preprocess)"
   ]
  },
  {
   "cell_type": "code",
   "execution_count": 9,
   "id": "74be01fc",
   "metadata": {},
   "outputs": [],
   "source": [
    "x = vectorizer.fit_transform(tweets['Tweet'])"
   ]
  },
  {
   "cell_type": "code",
   "execution_count": 10,
   "id": "9533fbcf",
   "metadata": {
    "scrolled": true
   },
   "outputs": [
    {
     "name": "stdout",
     "output_type": "stream",
     "text": [
      "      000  075  0909  0910  099  10  100  100m  1085  10min  ...  youtub  \\\n",
      "0       0    0     0     0    0   0    0     0     0      0  ...       0   \n",
      "1       0    0     0     0    0   0    0     0     0      0  ...       0   \n",
      "2       0    0     0     0    0   0    0     0     0      0  ...       0   \n",
      "3       0    0     0     0    0   0    0     0     0      0  ...       0   \n",
      "4       0    0     0     0    0   0    0     0     0      1  ...       0   \n",
      "...   ...  ...   ...   ...  ...  ..  ...   ...   ...    ...  ...     ...   \n",
      "1176    0    0     0     0    0   0    0     0     0      0  ...       0   \n",
      "1177    0    0     0     0    0   0    0     0     0      0  ...       0   \n",
      "1178    0    0     0     0    0   0    0     0     0      0  ...       0   \n",
      "1179    0    0     0     0    0   0    0     0     0      0  ...       0   \n",
      "1180    0    0     0     0    0   0    0     0     0      0  ...       0   \n",
      "\n",
      "      youv  yu  yurbud  z10  ze  zifmstereo  zimmerman  zippo  zostac  \n",
      "0        0   0       0    0   0           0          0      0       0  \n",
      "1        0   0       0    0   0           0          0      0       0  \n",
      "2        0   0       0    0   0           0          0      0       0  \n",
      "3        0   0       0    0   0           0          0      0       0  \n",
      "4        0   0       0    0   0           0          0      0       0  \n",
      "...    ...  ..     ...  ...  ..         ...        ...    ...     ...  \n",
      "1176     0   0       0    0   0           0          0      0       0  \n",
      "1177     0   0       0    0   0           0          0      0       0  \n",
      "1178     0   0       0    0   0           0          0      0       0  \n",
      "1179     0   0       0    0   0           0          0      0       0  \n",
      "1180     0   0       0    0   0           0          0      0       0  \n",
      "\n",
      "[1181 rows x 3434 columns]\n"
     ]
    }
   ],
   "source": [
    "bow_tweet = pd.DataFrame(x.toarray(), columns=vectorizer.get_feature_names_out())\n",
    "print(bow_tweet)"
   ]
  },
  {
   "cell_type": "markdown",
   "id": "16a579b4",
   "metadata": {},
   "source": [
    "most used words"
   ]
  },
  {
   "cell_type": "code",
   "execution_count": 11,
   "id": "b5c152d6",
   "metadata": {},
   "outputs": [],
   "source": [
    "word_counts = bow_tweet.sum(axis=0)"
   ]
  },
  {
   "cell_type": "code",
   "execution_count": 12,
   "id": "8d13d96f",
   "metadata": {},
   "outputs": [],
   "source": [
    "total_words = word_counts.sum()"
   ]
  },
  {
   "cell_type": "code",
   "execution_count": 16,
   "id": "0ab14221",
   "metadata": {},
   "outputs": [],
   "source": [
    "threshold = 0.001 * total_words"
   ]
  },
  {
   "cell_type": "code",
   "execution_count": 17,
   "id": "ac16d822",
   "metadata": {},
   "outputs": [],
   "source": [
    "frequent_words = word_counts[word_counts >= threshold]\n",
    "tweetwords = frequent_words.reset_index()\n",
    "tweetwords.columns = ['word', 'frequency']"
   ]
  },
  {
   "cell_type": "code",
   "execution_count": 18,
   "id": "a29f65e0",
   "metadata": {},
   "outputs": [
    {
     "data": {
      "text/html": [
       "<div>\n",
       "<style scoped>\n",
       "    .dataframe tbody tr th:only-of-type {\n",
       "        vertical-align: middle;\n",
       "    }\n",
       "\n",
       "    .dataframe tbody tr th {\n",
       "        vertical-align: top;\n",
       "    }\n",
       "\n",
       "    .dataframe thead th {\n",
       "        text-align: right;\n",
       "    }\n",
       "</style>\n",
       "<table border=\"1\" class=\"dataframe\">\n",
       "  <thead>\n",
       "    <tr style=\"text-align: right;\">\n",
       "      <th></th>\n",
       "      <th>word</th>\n",
       "      <th>frequency</th>\n",
       "    </tr>\n",
       "  </thead>\n",
       "  <tbody>\n",
       "    <tr>\n",
       "      <th>0</th>\n",
       "      <td>5c</td>\n",
       "      <td>59</td>\n",
       "    </tr>\n",
       "    <tr>\n",
       "      <th>1</th>\n",
       "      <td>5s</td>\n",
       "      <td>91</td>\n",
       "    </tr>\n",
       "    <tr>\n",
       "      <th>2</th>\n",
       "      <td>android</td>\n",
       "      <td>24</td>\n",
       "    </tr>\n",
       "    <tr>\n",
       "      <th>3</th>\n",
       "      <td>announc</td>\n",
       "      <td>19</td>\n",
       "    </tr>\n",
       "    <tr>\n",
       "      <th>4</th>\n",
       "      <td>anyon</td>\n",
       "      <td>20</td>\n",
       "    </tr>\n",
       "  </tbody>\n",
       "</table>\n",
       "</div>"
      ],
      "text/plain": [
       "      word  frequency\n",
       "0       5c         59\n",
       "1       5s         91\n",
       "2  android         24\n",
       "3  announc         19\n",
       "4    anyon         20"
      ]
     },
     "execution_count": 18,
     "metadata": {},
     "output_type": "execute_result"
    }
   ],
   "source": [
    "tweetwords.head()"
   ]
  },
  {
   "cell_type": "code",
   "execution_count": null,
   "id": "4e63f71d",
   "metadata": {},
   "outputs": [],
   "source": []
  }
 ],
 "metadata": {
  "kernelspec": {
   "display_name": "Python 3 (ipykernel)",
   "language": "python",
   "name": "python3"
  },
  "language_info": {
   "codemirror_mode": {
    "name": "ipython",
    "version": 3
   },
   "file_extension": ".py",
   "mimetype": "text/x-python",
   "name": "python",
   "nbconvert_exporter": "python",
   "pygments_lexer": "ipython3",
   "version": "3.9.13"
  }
 },
 "nbformat": 4,
 "nbformat_minor": 5
}
